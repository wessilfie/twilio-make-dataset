{
 "cells": [
  {
   "cell_type": "code",
   "execution_count": null,
   "metadata": {},
   "outputs": [],
   "source": [
    "import pandas as pd\n",
    "import io\n",
    "import requests\n",
    "\n",
    "# Spotify libraries\n",
    "import spotipy\n",
    "import spotipy.oauth2 as oauth2\n",
    "\n"
   ]
  },
  {
   "cell_type": "code",
   "execution_count": null,
   "metadata": {},
   "outputs": [],
   "source": [
    "# Spotify Client ID/Secret\n",
    "credentials = oauth2.SpotifyClientCredentials(\n",
    "    client_id='SPOTIFY_CLIENT_ID',\n",
    "    client_secret='SPOTIFY_CLIENT_SECRET')"
   ]
  },
  {
   "cell_type": "code",
   "execution_count": null,
   "metadata": {},
   "outputs": [],
   "source": [
    "# link to the data set\n",
    "url=\"https://spotifycharts.com/regional/global/daily/latest/download\"\n",
    "# read data into a pandas dataframe\n",
    "track_data = requests.get(url).content\n",
    "# read data into a pandas data fame\n",
    "df = pd.read_csv(io.StringIO(track_data.decode('utf-8')))\n"
   ]
  },
  {
   "cell_type": "code",
   "execution_count": null,
   "metadata": {},
   "outputs": [],
   "source": [
    "# get first few rows of the dataframe\n",
    "df.head()"
   ]
  },
  {
   "cell_type": "code",
   "execution_count": null,
   "metadata": {},
   "outputs": [],
   "source": [
    "# see number of rows and columns in the dataframe\n",
    "df.shape"
   ]
  },
  {
   "cell_type": "code",
   "execution_count": null,
   "metadata": {},
   "outputs": [],
   "source": [
    "# initialize Spotify API\n",
    "token = credentials.get_access_token()\n",
    "sp = spotipy.Spotify(auth=token)"
   ]
  },
  {
   "cell_type": "code",
   "execution_count": null,
   "metadata": {},
   "outputs": [],
   "source": [
    "# see output for a single song \n",
    "sp.search(q=\"Dust and Ashes\", limit=4, type='track')"
   ]
  },
  {
   "cell_type": "code",
   "execution_count": null,
   "metadata": {},
   "outputs": [],
   "source": [
    "# Initialize lists that we'll save data to\n",
    "track_name = []\n",
    "artist = []\n",
    "countries_avail = [] \n",
    "spotify_id = []\n",
    "spotify_artist_page = []\n",
    "isExplicit = []\n",
    "preview_url = []"
   ]
  },
  {
   "cell_type": "code",
   "execution_count": null,
   "metadata": {},
   "outputs": [],
   "source": [
    "# Write loop to iterate over the dataframe and collected needed data\n",
    "for index, val in df.iterrows():\n",
    "    track = df['Track Name'][index]\n",
    "    results = sp.search(q=track, limit=4, type='track')\n",
    "    track_name.append(track)\n",
    "    artist.append(results['tracks']['items'][0]['artists'][0]['name'])\n",
    "    countries_avail.append(len(results['tracks']['items'][0]['available_markets']))\n",
    "    spotify_id.append(results['tracks']['items'][0]['id'])\n",
    "    spotify_artist_page.append(results['tracks']['items'][0]['artists'][0]['external_urls']['spotify'])\n",
    "    isExplicit.append(results['tracks']['items'][0]['explicit'])\n",
    "    preview_url.append(results['tracks']['items'][0]['preview_url'])"
   ]
  },
  {
   "cell_type": "code",
   "execution_count": null,
   "metadata": {},
   "outputs": [],
   "source": [
    "# Add new data to the dataframe\n",
    "df['# Countries Available'] = countries_avail\n",
    "df['Spotify ID'] = spotify_id\n",
    "df['Spotify Artist Page'] = spotify_artist_page\n",
    "df['isExplicit'] = isExplicit\n",
    "df['preview_url'] = preview_url"
   ]
  },
  {
   "cell_type": "code",
   "execution_count": null,
   "metadata": {},
   "outputs": [],
   "source": [
    "# Verify new data has been correctly added\n",
    "df.head()"
   ]
  }
 ],
 "metadata": {
  "kernelspec": {
   "display_name": "Python 3",
   "language": "python",
   "name": "python3"
  },
  "language_info": {
   "codemirror_mode": {
    "name": "ipython",
    "version": 3
   },
   "file_extension": ".py",
   "mimetype": "text/x-python",
   "name": "python",
   "nbconvert_exporter": "python",
   "pygments_lexer": "ipython3",
   "version": "3.6.4"
  }
 },
 "nbformat": 4,
 "nbformat_minor": 2
}
